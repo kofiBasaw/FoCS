version https://git-lfs.github.com/spec/v1
oid sha256:96ce7f09c1de94497c35b0436386b21a628492f0cfba768d34671160ce04cf49
size 8027319
